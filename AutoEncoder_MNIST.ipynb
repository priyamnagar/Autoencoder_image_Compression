{
 "cells": [
  {
   "cell_type": "code",
   "execution_count": 0,
   "metadata": {
    "colab": {},
    "colab_type": "code",
    "collapsed": true,
    "id": "H0gasDC_SyXR"
   },
   "outputs": [],
   "source": [
    "import torch\n",
    "from torchvision import datasets, transforms\n",
    "import matplotlib.pyplot as plt\n",
    "import numpy as np\n",
    "from torch import nn,optim"
   ]
  },
  {
   "cell_type": "markdown",
   "metadata": {
    "colab_type": "text",
    "id": "QPSAK5rpxy45"
   },
   "source": [
    "**Gathering and Loading Data**"
   ]
  },
  {
   "cell_type": "code",
   "execution_count": 0,
   "metadata": {
    "colab": {},
    "colab_type": "code",
    "collapsed": true,
    "id": "qv-sfD3DTCW4"
   },
   "outputs": [],
   "source": [
    "transform=transforms.Compose([transforms.ToTensor()])\n",
    "traindata=datasets.MNIST('/data',train=True,download=True,transform=transform)\n",
    "trainloader=torch.utils.data.DataLoader(traindata,batch_size=64,shuffle=True)\n",
    "testdata=datasets.MNIST('/data',train=True,download=True,transform=transform)\n",
    "testloader=torch.utils.data.DataLoader(testdata,batch_size=64,shuffle=True)"
   ]
  },
  {
   "cell_type": "code",
   "execution_count": 67,
   "metadata": {
    "colab": {
     "base_uri": "https://localhost:8080/",
     "height": 34
    },
    "colab_type": "code",
    "collapsed": false,
    "id": "FVtA4c-UTmfz",
    "outputId": "6d553a97-5f56-48ea-f5a8-4144edb35cd6"
   },
   "outputs": [
    {
     "data": {
      "text/plain": [
       "torch.Size([64, 1, 28, 28])"
      ]
     },
     "execution_count": 67,
     "metadata": {
      "tags": []
     },
     "output_type": "execute_result"
    }
   ],
   "source": [
    "images,labels=next(iter(trainloader))\n",
    "images.shape"
   ]
  },
  {
   "cell_type": "markdown",
   "metadata": {
    "colab_type": "text",
    "id": "KLyy-lhbx3LM"
   },
   "source": [
    "**Visualization**"
   ]
  },
  {
   "cell_type": "code",
   "execution_count": 74,
   "metadata": {
    "colab": {
     "base_uri": "https://localhost:8080/",
     "height": 364
    },
    "colab_type": "code",
    "collapsed": false,
    "id": "Xlq5sKZHTu1i",
    "outputId": "93181f84-83a3-4fa4-9124-17425b9c990c"
   },
   "outputs": [
    {
     "data": {
      "text/plain": [
       "<matplotlib.image.AxesImage at 0x7f3439dc2748>"
      ]
     },
     "execution_count": 74,
     "metadata": {
      "tags": []
     },
     "output_type": "execute_result"
    },
    {
     "data": {
      "image/png": "[encoded data removed]",
      "text/plain": [
       "<Figure size 576x396 with 1 Axes>"
      ]
     },
     "metadata": {
      "tags": []
     },
     "output_type": "display_data"
    }
   ],
   "source": [
    "plt.imshow(images[0].reshape(28,28),cmap='gray')"
   ]
  },
  {
   "cell_type": "markdown",
   "metadata": {
    "colab_type": "text",
    "id": "Ps_ny4c6x65h"
   },
   "source": [
    "**Autoencoder Model**"
   ]
  },
  {
   "cell_type": "code",
   "execution_count": 75,
   "metadata": {
    "colab": {
     "base_uri": "https://localhost:8080/",
     "height": 119
    },
    "colab_type": "code",
    "collapsed": false,
    "id": "Ni0Y6tBaUDKF",
    "outputId": "7b0cf9f7-713b-4119-dd9d-c2cf6e2432e7"
   },
   "outputs": [
    {
     "data": {
      "text/plain": [
       "AutoEncoder(\n",
       "  (encoder): Linear(in_features=784, out_features=32, bias=True)\n",
       "  (decoder): Linear(in_features=32, out_features=784, bias=True)\n",
       "  (relu): ReLU()\n",
       "  (sigmoid): Sigmoid()\n",
       ")"
      ]
     },
     "execution_count": 75,
     "metadata": {
      "tags": []
     },
     "output_type": "execute_result"
    }
   ],
   "source": [
    "class AutoEncoder(nn.Module):\n",
    "    def __init__(self):\n",
    "        super().__init__()\n",
    "        self.encoder=nn.Linear(784,32)\n",
    "        self.decoder=nn.Linear(32,784)\n",
    "    \n",
    "        self.relu=nn.ReLU()\n",
    "        self.sigmoid=nn.Sigmoid()\n",
    "    \n",
    "      def forward(self,x):\n",
    "        x=self.relu(self.encoder(x))\n",
    "        x=self.sigmoid(self.decoder(x))\n",
    "    \n",
    "        return x\n",
    "\n",
    "model=AutoEncoder()\n",
    "model.cuda()\n",
    "    "
   ]
  },
  {
   "cell_type": "markdown",
   "metadata": {
    "colab_type": "text",
    "id": "IT8C3dP2yH5g"
   },
   "source": [
    "**Loss and Optimizer Objects**"
   ]
  },
  {
   "cell_type": "code",
   "execution_count": 0,
   "metadata": {
    "colab": {},
    "colab_type": "code",
    "collapsed": true,
    "id": "HwlmCQlUWEI9"
   },
   "outputs": [],
   "source": [
    "criterion=nn.MSELoss()\n",
    "optimizer=optim.Adam(model.parameters(),lr=0.003)"
   ]
  },
  {
   "cell_type": "markdown",
   "metadata": {
    "colab_type": "text",
    "id": "5BuYpcNdyMZb"
   },
   "source": [
    "**Training**"
   ]
  },
  {
   "cell_type": "code",
   "execution_count": 77,
   "metadata": {
    "colab": {
     "base_uri": "https://localhost:8080/",
     "height": 272
    },
    "colab_type": "code",
    "collapsed": false,
    "id": "oDdnE1HMWX6d",
    "outputId": "d081ba5b-9cff-44cd-c61b-0ee28c1f5b6d"
   },
   "outputs": [
    {
     "name": "stdout",
     "output_type": "stream",
     "text": [
      "Training Loss :  0.03635412965144621\n",
      "Training Loss :  0.02307629847585329\n",
      "Training Loss :  0.02240154027009506\n",
      "Training Loss :  0.02218646796416245\n",
      "Training Loss :  0.022031397239040972\n",
      "Training Loss :  0.021925650278864894\n",
      "Training Loss :  0.021812873940144393\n",
      "Training Loss :  0.02173516896765814\n",
      "Training Loss :  0.021660989764005517\n",
      "Training Loss :  0.021607874841022213\n",
      "Training Loss :  0.021559299859426805\n",
      "Training Loss :  0.02153017737074638\n",
      "Training Loss :  0.021466830429603168\n",
      "Training Loss :  0.021444805947416372\n",
      "Training Loss :  0.021414237364983636\n"
     ]
    }
   ],
   "source": [
    "epoch=15\n",
    "for e in range(epoch):\n",
    "    running_loss=0\n",
    "    for images,_ in trainloader:\n",
    "        images=images.cuda()\n",
    "        optimizer.zero_grad()\n",
    "    \n",
    "        images=images.view(images.size(0),-1)\n",
    "        logits=model.forward(images)\n",
    "\n",
    "    \n",
    "        loss=criterion(logits,images)\n",
    "        loss.backward()\n",
    "    \n",
    "        optimizer.step()\n",
    "    \n",
    "        running_loss+=loss.item()\n",
    "    \n",
    "    else:\n",
    "        print('Training Loss : ',running_loss/len(trainloader))"
   ]
  },
  {
   "cell_type": "markdown",
   "metadata": {
    "colab_type": "text",
    "id": "nBQmHIAtyQxx"
   },
   "source": [
    "**Image Before compression**"
   ]
  },
  {
   "cell_type": "code",
   "execution_count": 0,
   "metadata": {
    "colab": {},
    "colab_type": "code",
    "collapsed": true,
    "id": "y9Jne6q8W7La"
   },
   "outputs": [],
   "source": [
    "images,_=next(iter(testloader))"
   ]
  },
  {
   "cell_type": "code",
   "execution_count": 79,
   "metadata": {
    "colab": {
     "base_uri": "https://localhost:8080/",
     "height": 34
    },
    "colab_type": "code",
    "collapsed": false,
    "id": "Mb4u55wNuOqW",
    "outputId": "1fd548d3-f1ae-45af-d68b-0469aa25bd7a"
   },
   "outputs": [
    {
     "data": {
      "text/plain": [
       "torch.Size([1, 28, 28])"
      ]
     },
     "execution_count": 79,
     "metadata": {
      "tags": []
     },
     "output_type": "execute_result"
    }
   ],
   "source": [
    "images[0].shape"
   ]
  },
  {
   "cell_type": "code",
   "execution_count": 80,
   "metadata": {
    "colab": {
     "base_uri": "https://localhost:8080/",
     "height": 364
    },
    "colab_type": "code",
    "collapsed": false,
    "id": "51WbAA7KxHcS",
    "outputId": "5f22728e-3cce-42bc-854e-84566b9536e6"
   },
   "outputs": [
    {
     "data": {
      "text/plain": [
       "<matplotlib.image.AxesImage at 0x7f3439d26128>"
      ]
     },
     "execution_count": 80,
     "metadata": {
      "tags": []
     },
     "output_type": "execute_result"
    },
    {
     "data": {
      "image/png": "[encoded data removed]",
      "text/plain": [
       "<Figure size 576x396 with 1 Axes>"
      ]
     },
     "metadata": {
      "tags": []
     },
     "output_type": "display_data"
    }
   ],
   "source": [
    "plt.imshow(images[0].reshape(28,28),cmap='gray')"
   ]
  },
  {
   "cell_type": "markdown",
   "metadata": {
    "colab_type": "text",
    "id": "VjY3oX7nyWtg"
   },
   "source": [
    "**Image after compression**"
   ]
  },
  {
   "cell_type": "code",
   "execution_count": 0,
   "metadata": {
    "colab": {},
    "colab_type": "code",
    "collapsed": true,
    "id": "dgN6pjLyuQDV"
   },
   "outputs": [],
   "source": [
    "with torch.no_grad():\n",
    "    images=images.view(-1,784)\n",
    "    images=images.cuda()\n",
    "    comp_img=model.forward(images)\n",
    " "
   ]
  },
  {
   "cell_type": "code",
   "execution_count": 82,
   "metadata": {
    "colab": {
     "base_uri": "https://localhost:8080/",
     "height": 364
    },
    "colab_type": "code",
    "collapsed": false,
    "id": "j-JjYTZRuguA",
    "outputId": "fd824432-ebe0-4270-c3e1-fa4558036154"
   },
   "outputs": [
    {
     "data": {
      "text/plain": [
       "<matplotlib.image.AxesImage at 0x7f3439cfa5f8>"
      ]
     },
     "execution_count": 82,
     "metadata": {
      "tags": []
     },
     "output_type": "execute_result"
    },
    {
     "data": {
      "image/png": "[encoded data removed]",
      "text/plain": [
       "<Figure size 576x396 with 1 Axes>"
      ]
     },
     "metadata": {
      "tags": []
     },
     "output_type": "display_data"
    }
   ],
   "source": [
    "comp_img=comp_img.cpu()\n",
    "plt.imshow(comp_img[0].reshape(28,28),cmap='gray')"
   ]
  },
  {
   "cell_type": "code",
   "execution_count": 0,
   "metadata": {
    "colab": {},
    "colab_type": "code",
    "collapsed": true,
    "id": "DYX2CZ_Ju884"
   },
   "outputs": [],
   "source": []
  }
 ],
 "metadata": {
  "accelerator": "GPU",
  "colab": {
   "collapsed_sections": [],
   "name": "AutoEncoder_MNIST.ipynb",
   "provenance": [],
   "version": "0.3.2"
  },
  "kernelspec": {
   "display_name": "Python 3",
   "language": "python",
   "name": "python3"
  },
  "language_info": {
   "codemirror_mode": {
    "name": "ipython",
    "version": 3
   },
   "file_extension": ".py",
   "mimetype": "text/x-python",
   "name": "python",
   "nbconvert_exporter": "python",
   "pygments_lexer": "ipython3",
   "version": "3.5.6"
  }
 },
 "nbformat": 4,
 "nbformat_minor": 0
}
